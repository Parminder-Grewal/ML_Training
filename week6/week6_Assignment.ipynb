{
 "cells": [
  {
   "cell_type": "code",
   "execution_count": null,
   "metadata": {},
   "outputs": [],
   "source": [
    "#%pip install tensorflow"
   ]
  },
  {
   "cell_type": "code",
   "execution_count": 6,
   "metadata": {},
   "outputs": [],
   "source": [
    "# importing packages\n",
    "\n",
    "import pandas as pd\n",
    "import numpy as no\n",
    "\n",
    "import matplotlib.pyplot as plt\n",
    "import seaborn as sns\n",
    "\n",
    "import tensorflow as tf \n",
    "from tensorflow import keras #keras gives convinent api to use\n",
    "\n",
    "#Scaling the data\n",
    "from sklearn.preprocessing import StandardScaler\n",
    "\n",
    "\n",
    "%matplotlib inline\n",
    "\n",
    "import warnings\n",
    "warnings.filterwarnings('ignore')\n",
    "\n"
   ]
  },
  {
   "cell_type": "code",
   "execution_count": null,
   "metadata": {},
   "outputs": [],
   "source": [
    "#%pip install torch"
   ]
  },
  {
   "cell_type": "code",
   "execution_count": 29,
   "metadata": {},
   "outputs": [
    {
     "data": {
      "text/html": [
       "<div>\n",
       "<style scoped>\n",
       "    .dataframe tbody tr th:only-of-type {\n",
       "        vertical-align: middle;\n",
       "    }\n",
       "\n",
       "    .dataframe tbody tr th {\n",
       "        vertical-align: top;\n",
       "    }\n",
       "\n",
       "    .dataframe thead th {\n",
       "        text-align: right;\n",
       "    }\n",
       "</style>\n",
       "<table border=\"1\" class=\"dataframe\">\n",
       "  <thead>\n",
       "    <tr style=\"text-align: right;\">\n",
       "      <th></th>\n",
       "      <th>admit</th>\n",
       "      <th>gre</th>\n",
       "      <th>gpa</th>\n",
       "      <th>rank</th>\n",
       "    </tr>\n",
       "  </thead>\n",
       "  <tbody>\n",
       "    <tr>\n",
       "      <th>0</th>\n",
       "      <td>0</td>\n",
       "      <td>380</td>\n",
       "      <td>3.61</td>\n",
       "      <td>3</td>\n",
       "    </tr>\n",
       "    <tr>\n",
       "      <th>1</th>\n",
       "      <td>1</td>\n",
       "      <td>660</td>\n",
       "      <td>3.67</td>\n",
       "      <td>3</td>\n",
       "    </tr>\n",
       "    <tr>\n",
       "      <th>2</th>\n",
       "      <td>1</td>\n",
       "      <td>800</td>\n",
       "      <td>4.00</td>\n",
       "      <td>1</td>\n",
       "    </tr>\n",
       "    <tr>\n",
       "      <th>3</th>\n",
       "      <td>1</td>\n",
       "      <td>640</td>\n",
       "      <td>3.19</td>\n",
       "      <td>4</td>\n",
       "    </tr>\n",
       "    <tr>\n",
       "      <th>4</th>\n",
       "      <td>0</td>\n",
       "      <td>520</td>\n",
       "      <td>2.93</td>\n",
       "      <td>4</td>\n",
       "    </tr>\n",
       "  </tbody>\n",
       "</table>\n",
       "</div>"
      ],
      "text/plain": [
       "   admit  gre   gpa  rank\n",
       "0      0  380  3.61     3\n",
       "1      1  660  3.67     3\n",
       "2      1  800  4.00     1\n",
       "3      1  640  3.19     4\n",
       "4      0  520  2.93     4"
      ]
     },
     "execution_count": 29,
     "metadata": {},
     "output_type": "execute_result"
    }
   ],
   "source": [
    "data = pd.read_csv('student_data.csv')\n",
    "data.head()"
   ]
  },
  {
   "cell_type": "code",
   "execution_count": 30,
   "metadata": {},
   "outputs": [
    {
     "data": {
      "text/plain": [
       "(400, 4)"
      ]
     },
     "execution_count": 30,
     "metadata": {},
     "output_type": "execute_result"
    }
   ],
   "source": [
    "data.shape"
   ]
  },
  {
   "cell_type": "code",
   "execution_count": 42,
   "metadata": {},
   "outputs": [],
   "source": [
    "y = data.iloc[:, [3]]\n",
    "X = data.drop('rank', axis=1)"
   ]
  },
  {
   "cell_type": "code",
   "execution_count": 43,
   "metadata": {},
   "outputs": [
    {
     "data": {
      "text/plain": [
       "(400, 3)"
      ]
     },
     "execution_count": 43,
     "metadata": {},
     "output_type": "execute_result"
    }
   ],
   "source": [
    "X.shape"
   ]
  },
  {
   "cell_type": "code",
   "execution_count": 44,
   "metadata": {},
   "outputs": [
    {
     "data": {
      "text/plain": [
       "(400, 1)"
      ]
     },
     "execution_count": 44,
     "metadata": {},
     "output_type": "execute_result"
    }
   ],
   "source": [
    "y.shape"
   ]
  },
  {
   "cell_type": "code",
   "execution_count": 45,
   "metadata": {},
   "outputs": [],
   "source": [
    "from sklearn.model_selection import train_test_split\n",
    "X_training_data, X_test_data, y_train_data, y_test_data = train_test_split(X, y , test_size=0.3, random_state=25)"
   ]
  },
  {
   "cell_type": "code",
   "execution_count": 47,
   "metadata": {},
   "outputs": [
    {
     "data": {
      "text/plain": [
       "(280, 3)"
      ]
     },
     "execution_count": 47,
     "metadata": {},
     "output_type": "execute_result"
    }
   ],
   "source": [
    "X_training_data.shape"
   ]
  },
  {
   "cell_type": "code",
   "execution_count": 48,
   "metadata": {},
   "outputs": [
    {
     "data": {
      "text/plain": [
       "(280, 1)"
      ]
     },
     "execution_count": 48,
     "metadata": {},
     "output_type": "execute_result"
    }
   ],
   "source": [
    "y_train_data.shape"
   ]
  },
  {
   "cell_type": "code",
   "execution_count": 51,
   "metadata": {},
   "outputs": [],
   "source": [
    "#Preprocessing: Scale the data so that both gre and gpa are in same scaling range\n",
    "X_train_scaled = X_training_data.copy()\n",
    "X_train_scaled['gre'] = X_train_scaled['gre']/100\n",
    "\n",
    "X_test_scaled = X_test_data.copy()\n",
    "X_test_scaled['gre'] = X_test_scaled['gre']/100"
   ]
  },
  {
   "cell_type": "code",
   "execution_count": 66,
   "metadata": {},
   "outputs": [
    {
     "name": "stdout",
     "output_type": "stream",
     "text": [
      "Epoch 1/30\n",
      "9/9 [==============================] - 0s 1000us/step - loss: -13.7230 - accuracy: 0.1500\n",
      "Epoch 2/30\n",
      "9/9 [==============================] - 0s 1ms/step - loss: -13.8580 - accuracy: 0.1500\n",
      "Epoch 3/30\n",
      "9/9 [==============================] - 0s 1ms/step - loss: -13.9929 - accuracy: 0.1500\n",
      "Epoch 4/30\n",
      "9/9 [==============================] - 0s 1ms/step - loss: -14.1287 - accuracy: 0.1500\n",
      "Epoch 5/30\n",
      "9/9 [==============================] - 0s 1ms/step - loss: -14.2640 - accuracy: 0.1500\n",
      "Epoch 6/30\n",
      "9/9 [==============================] - 0s 811us/step - loss: -14.3981 - accuracy: 0.1500\n",
      "Epoch 7/30\n",
      "9/9 [==============================] - 0s 1000us/step - loss: -14.5324 - accuracy: 0.1500\n",
      "Epoch 8/30\n",
      "9/9 [==============================] - 0s 1ms/step - loss: -14.6683 - accuracy: 0.1500\n",
      "Epoch 9/30\n",
      "9/9 [==============================] - 0s 1ms/step - loss: -14.8029 - accuracy: 0.1500\n",
      "Epoch 10/30\n",
      "9/9 [==============================] - 0s 1ms/step - loss: -14.9384 - accuracy: 0.1500\n",
      "Epoch 11/30\n",
      "9/9 [==============================] - 0s 1ms/step - loss: -15.0733 - accuracy: 0.1500\n",
      "Epoch 12/30\n",
      "9/9 [==============================] - 0s 2ms/step - loss: -15.2064 - accuracy: 0.1500\n",
      "Epoch 13/30\n",
      "9/9 [==============================] - 0s 1000us/step - loss: -15.3448 - accuracy: 0.1500\n",
      "Epoch 14/30\n",
      "9/9 [==============================] - 0s 1000us/step - loss: -15.4760 - accuracy: 0.1500\n",
      "Epoch 15/30\n",
      "9/9 [==============================] - 0s 2ms/step - loss: -15.6138 - accuracy: 0.1500\n",
      "Epoch 16/30\n",
      "9/9 [==============================] - 0s 1ms/step - loss: -15.7470 - accuracy: 0.1500\n",
      "Epoch 17/30\n",
      "9/9 [==============================] - 0s 1000us/step - loss: -15.8816 - accuracy: 0.1500\n",
      "Epoch 18/30\n",
      "9/9 [==============================] - 0s 2ms/step - loss: -16.0160 - accuracy: 0.1500\n",
      "Epoch 19/30\n",
      "9/9 [==============================] - 0s 1ms/step - loss: -16.1520 - accuracy: 0.1500\n",
      "Epoch 20/30\n",
      "9/9 [==============================] - 0s 1ms/step - loss: -16.2868 - accuracy: 0.1500\n",
      "Epoch 21/30\n",
      "9/9 [==============================] - 0s 2ms/step - loss: -16.4220 - accuracy: 0.1500\n",
      "Epoch 22/30\n",
      "9/9 [==============================] - 0s 1ms/step - loss: -16.5573 - accuracy: 0.1500\n",
      "Epoch 23/30\n",
      "9/9 [==============================] - 0s 1ms/step - loss: -16.6917 - accuracy: 0.1500\n",
      "Epoch 24/30\n",
      "9/9 [==============================] - 0s 1ms/step - loss: -16.8298 - accuracy: 0.1500\n",
      "Epoch 25/30\n",
      "9/9 [==============================] - 0s 1000us/step - loss: -16.9593 - accuracy: 0.1500\n",
      "Epoch 26/30\n",
      "9/9 [==============================] - 0s 1000us/step - loss: -17.0979 - accuracy: 0.1500\n",
      "Epoch 27/30\n",
      "9/9 [==============================] - 0s 2ms/step - loss: -17.2324 - accuracy: 0.1500\n",
      "Epoch 28/30\n",
      "9/9 [==============================] - 0s 1ms/step - loss: -17.3686 - accuracy: 0.1500\n",
      "Epoch 29/30\n",
      "9/9 [==============================] - 0s 1ms/step - loss: -17.5032 - accuracy: 0.1500\n",
      "Epoch 30/30\n",
      "9/9 [==============================] - 0s 1ms/step - loss: -17.6399 - accuracy: 0.1500\n"
     ]
    },
    {
     "data": {
      "text/plain": [
       "<keras.callbacks.History at 0x25919a022c8>"
      ]
     },
     "execution_count": 66,
     "metadata": {},
     "output_type": "execute_result"
    }
   ],
   "source": [
    "model = keras.Sequential([\n",
    "    keras.layers.Dense(1, input_shape=(3,), activation= 'sigmoid', kernel_initializer= 'ones', bias_initializer = 'zeros')\n",
    "])\n",
    "\n",
    "model.compile(optimizer='adam',\n",
    "loss='binary_crossentropy',\n",
    "metrics=['accuracy']) \n",
    "\n",
    "model.fit(X_train_scaled, y_train_data, epochs=30)"
   ]
  },
  {
   "cell_type": "code",
   "execution_count": 67,
   "metadata": {},
   "outputs": [
    {
     "name": "stdout",
     "output_type": "stream",
     "text": [
      "4/4 [==============================] - 0s 3ms/step - loss: -19.0414 - accuracy: 0.1583\n"
     ]
    },
    {
     "data": {
      "text/plain": [
       "[-19.04141616821289, 0.15833333134651184]"
      ]
     },
     "execution_count": 67,
     "metadata": {},
     "output_type": "execute_result"
    }
   ],
   "source": [
    "model.evaluate(X_test_scaled, y_test_data) #gave 15 percent accuracy"
   ]
  },
  {
   "cell_type": "code",
   "execution_count": 68,
   "metadata": {},
   "outputs": [
    {
     "data": {
      "text/plain": [
       "array([[0.9999832 ],\n",
       "       [0.99999964],\n",
       "       [0.99998593],\n",
       "       [0.9999925 ],\n",
       "       [0.9999948 ],\n",
       "       [1.        ],\n",
       "       [0.99997425],\n",
       "       [1.        ],\n",
       "       [0.99997485],\n",
       "       [0.9999976 ],\n",
       "       [0.99999356],\n",
       "       [0.99999   ],\n",
       "       [1.        ],\n",
       "       [0.9999764 ],\n",
       "       [0.99998736],\n",
       "       [0.9999994 ],\n",
       "       [0.9999973 ],\n",
       "       [0.9999974 ],\n",
       "       [0.9999993 ],\n",
       "       [0.9999961 ],\n",
       "       [0.9999943 ],\n",
       "       [0.99992025],\n",
       "       [0.9999943 ],\n",
       "       [0.9999981 ],\n",
       "       [0.9999582 ],\n",
       "       [1.        ],\n",
       "       [0.9999981 ],\n",
       "       [0.9999989 ],\n",
       "       [0.99999756],\n",
       "       [0.9999955 ],\n",
       "       [1.        ],\n",
       "       [0.9999959 ],\n",
       "       [0.99999607],\n",
       "       [0.9999994 ],\n",
       "       [0.99994814],\n",
       "       [0.99999744],\n",
       "       [0.9999962 ],\n",
       "       [0.99999815],\n",
       "       [0.99999964],\n",
       "       [0.9999988 ],\n",
       "       [0.9999937 ],\n",
       "       [0.99999064],\n",
       "       [0.99999034],\n",
       "       [0.9999974 ],\n",
       "       [0.99999547],\n",
       "       [0.9999671 ],\n",
       "       [0.9999889 ],\n",
       "       [0.999997  ],\n",
       "       [0.9999982 ],\n",
       "       [0.999992  ],\n",
       "       [1.        ],\n",
       "       [0.99995077],\n",
       "       [0.9999812 ],\n",
       "       [0.9998112 ],\n",
       "       [0.99999803],\n",
       "       [0.99999964],\n",
       "       [0.999994  ],\n",
       "       [1.        ],\n",
       "       [0.99998504],\n",
       "       [0.9999993 ],\n",
       "       [0.99999976],\n",
       "       [0.9999897 ],\n",
       "       [1.        ],\n",
       "       [0.99999964],\n",
       "       [0.9998228 ],\n",
       "       [0.9998757 ],\n",
       "       [0.99962556],\n",
       "       [0.9999341 ],\n",
       "       [0.9999641 ],\n",
       "       [0.9999995 ],\n",
       "       [0.9999982 ],\n",
       "       [0.9999623 ],\n",
       "       [0.99994546],\n",
       "       [0.9999876 ],\n",
       "       [0.99999577],\n",
       "       [0.99999905],\n",
       "       [1.        ],\n",
       "       [0.99990946],\n",
       "       [0.9999889 ],\n",
       "       [0.9999974 ],\n",
       "       [0.9999969 ],\n",
       "       [0.99997354],\n",
       "       [0.9999889 ],\n",
       "       [0.99999905],\n",
       "       [0.99999905],\n",
       "       [0.99999917],\n",
       "       [0.99999964],\n",
       "       [0.9999773 ],\n",
       "       [0.99999917],\n",
       "       [0.99999917],\n",
       "       [0.99999917],\n",
       "       [0.9997407 ],\n",
       "       [0.999999  ],\n",
       "       [0.99999875],\n",
       "       [0.9999989 ],\n",
       "       [0.9997473 ],\n",
       "       [0.9999974 ],\n",
       "       [0.99999976],\n",
       "       [0.9999993 ],\n",
       "       [0.99999875],\n",
       "       [0.99997455],\n",
       "       [0.999994  ],\n",
       "       [0.9999795 ],\n",
       "       [0.99998116],\n",
       "       [0.9999987 ],\n",
       "       [0.99999964],\n",
       "       [0.9999916 ],\n",
       "       [0.9999989 ],\n",
       "       [0.9999608 ],\n",
       "       [0.9999981 ],\n",
       "       [0.9999994 ],\n",
       "       [0.9999995 ],\n",
       "       [0.99999595],\n",
       "       [0.99999726],\n",
       "       [0.999997  ],\n",
       "       [0.99999845],\n",
       "       [0.9999992 ],\n",
       "       [0.9999995 ],\n",
       "       [0.99999857],\n",
       "       [0.99999595]], dtype=float32)"
      ]
     },
     "execution_count": 68,
     "metadata": {},
     "output_type": "execute_result"
    }
   ],
   "source": [
    "model.predict(X_test_scaled)"
   ]
  },
  {
   "cell_type": "code",
   "execution_count": 69,
   "metadata": {},
   "outputs": [
    {
     "data": {
      "text/html": [
       "<div>\n",
       "<style scoped>\n",
       "    .dataframe tbody tr th:only-of-type {\n",
       "        vertical-align: middle;\n",
       "    }\n",
       "\n",
       "    .dataframe tbody tr th {\n",
       "        vertical-align: top;\n",
       "    }\n",
       "\n",
       "    .dataframe thead th {\n",
       "        text-align: right;\n",
       "    }\n",
       "</style>\n",
       "<table border=\"1\" class=\"dataframe\">\n",
       "  <thead>\n",
       "    <tr style=\"text-align: right;\">\n",
       "      <th></th>\n",
       "      <th>rank</th>\n",
       "    </tr>\n",
       "  </thead>\n",
       "  <tbody>\n",
       "    <tr>\n",
       "      <th>121</th>\n",
       "      <td>2</td>\n",
       "    </tr>\n",
       "    <tr>\n",
       "      <th>162</th>\n",
       "      <td>2</td>\n",
       "    </tr>\n",
       "    <tr>\n",
       "      <th>338</th>\n",
       "      <td>1</td>\n",
       "    </tr>\n",
       "    <tr>\n",
       "      <th>375</th>\n",
       "      <td>4</td>\n",
       "    </tr>\n",
       "    <tr>\n",
       "      <th>262</th>\n",
       "      <td>3</td>\n",
       "    </tr>\n",
       "    <tr>\n",
       "      <th>...</th>\n",
       "      <td>...</td>\n",
       "    </tr>\n",
       "    <tr>\n",
       "      <th>140</th>\n",
       "      <td>2</td>\n",
       "    </tr>\n",
       "    <tr>\n",
       "      <th>204</th>\n",
       "      <td>1</td>\n",
       "    </tr>\n",
       "    <tr>\n",
       "      <th>359</th>\n",
       "      <td>3</td>\n",
       "    </tr>\n",
       "    <tr>\n",
       "      <th>312</th>\n",
       "      <td>3</td>\n",
       "    </tr>\n",
       "    <tr>\n",
       "      <th>199</th>\n",
       "      <td>4</td>\n",
       "    </tr>\n",
       "  </tbody>\n",
       "</table>\n",
       "<p>120 rows × 1 columns</p>\n",
       "</div>"
      ],
      "text/plain": [
       "     rank\n",
       "121     2\n",
       "162     2\n",
       "338     1\n",
       "375     4\n",
       "262     3\n",
       "..    ...\n",
       "140     2\n",
       "204     1\n",
       "359     3\n",
       "312     3\n",
       "199     4\n",
       "\n",
       "[120 rows x 1 columns]"
      ]
     },
     "execution_count": 69,
     "metadata": {},
     "output_type": "execute_result"
    }
   ],
   "source": [
    "y_test_data"
   ]
  },
  {
   "cell_type": "code",
   "execution_count": 70,
   "metadata": {},
   "outputs": [],
   "source": [
    "#Now get the value of weights and bias from the model: coef , intercept is known w1, w2, bias\n",
    "coef , intercept = model.get_weights()"
   ]
  },
  {
   "cell_type": "code",
   "execution_count": 71,
   "metadata": {},
   "outputs": [
    {
     "data": {
      "text/plain": [
       "(array([[1.2569085],\n",
       "        [1.2680928],\n",
       "        [1.2682104]], dtype=float32),\n",
       " array([0.26827973], dtype=float32))"
      ]
     },
     "execution_count": 71,
     "metadata": {},
     "output_type": "execute_result"
    }
   ],
   "source": [
    "coef, intercept\n",
    "\n",
    "##this means that w1 = 1.2579206 , w2 = 1.2680393, w3= 1.2681689 bias = 0.26820916"
   ]
  },
  {
   "cell_type": "code",
   "execution_count": 72,
   "metadata": {},
   "outputs": [
    {
     "data": {
      "text/plain": [
       "array([[0.9999832 ],\n",
       "       [0.99999964],\n",
       "       [0.99998593],\n",
       "       [0.9999925 ],\n",
       "       [0.9999948 ],\n",
       "       [1.        ],\n",
       "       [0.99997425],\n",
       "       [1.        ],\n",
       "       [0.99997485],\n",
       "       [0.9999976 ],\n",
       "       [0.99999356],\n",
       "       [0.99999   ],\n",
       "       [1.        ],\n",
       "       [0.9999764 ],\n",
       "       [0.99998736],\n",
       "       [0.9999994 ],\n",
       "       [0.9999973 ],\n",
       "       [0.9999974 ],\n",
       "       [0.9999993 ],\n",
       "       [0.9999961 ],\n",
       "       [0.9999943 ],\n",
       "       [0.99992025],\n",
       "       [0.9999943 ],\n",
       "       [0.9999981 ],\n",
       "       [0.9999582 ],\n",
       "       [1.        ],\n",
       "       [0.9999981 ],\n",
       "       [0.9999989 ],\n",
       "       [0.99999756],\n",
       "       [0.9999955 ],\n",
       "       [1.        ],\n",
       "       [0.9999959 ],\n",
       "       [0.99999607],\n",
       "       [0.9999994 ],\n",
       "       [0.99994814],\n",
       "       [0.99999744],\n",
       "       [0.9999962 ],\n",
       "       [0.99999815],\n",
       "       [0.99999964],\n",
       "       [0.9999988 ],\n",
       "       [0.9999937 ],\n",
       "       [0.99999064],\n",
       "       [0.99999034],\n",
       "       [0.9999974 ],\n",
       "       [0.99999547],\n",
       "       [0.9999671 ],\n",
       "       [0.9999889 ],\n",
       "       [0.999997  ],\n",
       "       [0.9999982 ],\n",
       "       [0.999992  ],\n",
       "       [1.        ],\n",
       "       [0.99995077],\n",
       "       [0.9999812 ],\n",
       "       [0.9998112 ],\n",
       "       [0.99999803],\n",
       "       [0.99999964],\n",
       "       [0.999994  ],\n",
       "       [1.        ],\n",
       "       [0.99998504],\n",
       "       [0.9999993 ],\n",
       "       [0.99999976],\n",
       "       [0.9999897 ],\n",
       "       [1.        ],\n",
       "       [0.99999964],\n",
       "       [0.9998228 ],\n",
       "       [0.9998757 ],\n",
       "       [0.99962556],\n",
       "       [0.9999341 ],\n",
       "       [0.9999641 ],\n",
       "       [0.9999995 ],\n",
       "       [0.9999982 ],\n",
       "       [0.9999623 ],\n",
       "       [0.99994546],\n",
       "       [0.9999876 ],\n",
       "       [0.99999577],\n",
       "       [0.99999905],\n",
       "       [1.        ],\n",
       "       [0.99990946],\n",
       "       [0.9999889 ],\n",
       "       [0.9999974 ],\n",
       "       [0.9999969 ],\n",
       "       [0.99997354],\n",
       "       [0.9999889 ],\n",
       "       [0.99999905],\n",
       "       [0.99999905],\n",
       "       [0.99999917],\n",
       "       [0.99999964],\n",
       "       [0.9999773 ],\n",
       "       [0.99999917],\n",
       "       [0.99999917],\n",
       "       [0.99999917],\n",
       "       [0.9997407 ],\n",
       "       [0.999999  ],\n",
       "       [0.99999875],\n",
       "       [0.9999989 ],\n",
       "       [0.9997473 ],\n",
       "       [0.9999974 ],\n",
       "       [0.99999976],\n",
       "       [0.9999993 ],\n",
       "       [0.99999875],\n",
       "       [0.99997455],\n",
       "       [0.999994  ],\n",
       "       [0.9999795 ],\n",
       "       [0.99998116],\n",
       "       [0.9999987 ],\n",
       "       [0.99999964],\n",
       "       [0.9999916 ],\n",
       "       [0.9999989 ],\n",
       "       [0.9999608 ],\n",
       "       [0.9999981 ],\n",
       "       [0.9999994 ],\n",
       "       [0.9999995 ],\n",
       "       [0.99999595],\n",
       "       [0.99999726],\n",
       "       [0.999997  ],\n",
       "       [0.99999845],\n",
       "       [0.9999992 ],\n",
       "       [0.9999995 ],\n",
       "       [0.99999857],\n",
       "       [0.99999595]], dtype=float32)"
      ]
     },
     "execution_count": 72,
     "metadata": {},
     "output_type": "execute_result"
    }
   ],
   "source": [
    "model.predict(X_test_scaled)"
   ]
  }
 ],
 "metadata": {
  "interpreter": {
   "hash": "dc9da8f5013573f9661038960abcf15df55b4cdb89538898bf397ceb3042d0ec"
  },
  "kernelspec": {
   "display_name": "Python 3.7.6 64-bit ('base': conda)",
   "language": "python",
   "name": "python3"
  },
  "language_info": {
   "codemirror_mode": {
    "name": "ipython",
    "version": 3
   },
   "file_extension": ".py",
   "mimetype": "text/x-python",
   "name": "python",
   "nbconvert_exporter": "python",
   "pygments_lexer": "ipython3",
   "version": "3.7.6"
  },
  "orig_nbformat": 4
 },
 "nbformat": 4,
 "nbformat_minor": 2
}
