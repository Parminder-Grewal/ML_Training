{
 "cells": [
  {
   "cell_type": "code",
   "execution_count": 73,
   "metadata": {},
   "outputs": [],
   "source": [
    "import numpy as np\n",
    "import pandas as pd\n",
    "import sklearn as metrics\n",
    "from sklearn.model_selection import train_test_split\n",
    "from sklearn.neighbors import KNeighborsClassifier\n",
    "from sklearn.svm import SVC\n",
    "from sklearn.tree import DecisionTreeClassifier\n",
    "from sklearn.ensemble import RandomForestClassifier\n",
    "from sklearn.naive_bayes import GaussianNB\n",
    "from sklearn.metrics import accuracy_score"
   ]
  },
  {
   "cell_type": "code",
   "execution_count": 51,
   "metadata": {},
   "outputs": [],
   "source": [
    "\n",
    "#Loading data from text file\n",
    "data = pd.read_table(r'C:\\Users\\um018e\\Documents\\Data Analytics ML and Cloud Training\\week5\\fruit_data_with_colors.txt')"
   ]
  },
  {
   "cell_type": "code",
   "execution_count": 52,
   "metadata": {},
   "outputs": [
    {
     "data": {
      "text/html": [
       "<div>\n",
       "<style scoped>\n",
       "    .dataframe tbody tr th:only-of-type {\n",
       "        vertical-align: middle;\n",
       "    }\n",
       "\n",
       "    .dataframe tbody tr th {\n",
       "        vertical-align: top;\n",
       "    }\n",
       "\n",
       "    .dataframe thead th {\n",
       "        text-align: right;\n",
       "    }\n",
       "</style>\n",
       "<table border=\"1\" class=\"dataframe\">\n",
       "  <thead>\n",
       "    <tr style=\"text-align: right;\">\n",
       "      <th></th>\n",
       "      <th>fruit_label</th>\n",
       "      <th>fruit_name</th>\n",
       "      <th>fruit_subtype</th>\n",
       "      <th>mass</th>\n",
       "      <th>width</th>\n",
       "      <th>height</th>\n",
       "      <th>color_score</th>\n",
       "    </tr>\n",
       "  </thead>\n",
       "  <tbody>\n",
       "    <tr>\n",
       "      <th>0</th>\n",
       "      <td>1</td>\n",
       "      <td>apple</td>\n",
       "      <td>granny_smith</td>\n",
       "      <td>192</td>\n",
       "      <td>8.4</td>\n",
       "      <td>7.3</td>\n",
       "      <td>0.55</td>\n",
       "    </tr>\n",
       "    <tr>\n",
       "      <th>1</th>\n",
       "      <td>1</td>\n",
       "      <td>apple</td>\n",
       "      <td>granny_smith</td>\n",
       "      <td>180</td>\n",
       "      <td>8.0</td>\n",
       "      <td>6.8</td>\n",
       "      <td>0.59</td>\n",
       "    </tr>\n",
       "    <tr>\n",
       "      <th>2</th>\n",
       "      <td>1</td>\n",
       "      <td>apple</td>\n",
       "      <td>granny_smith</td>\n",
       "      <td>176</td>\n",
       "      <td>7.4</td>\n",
       "      <td>7.2</td>\n",
       "      <td>0.60</td>\n",
       "    </tr>\n",
       "    <tr>\n",
       "      <th>3</th>\n",
       "      <td>2</td>\n",
       "      <td>mandarin</td>\n",
       "      <td>mandarin</td>\n",
       "      <td>86</td>\n",
       "      <td>6.2</td>\n",
       "      <td>4.7</td>\n",
       "      <td>0.80</td>\n",
       "    </tr>\n",
       "    <tr>\n",
       "      <th>4</th>\n",
       "      <td>2</td>\n",
       "      <td>mandarin</td>\n",
       "      <td>mandarin</td>\n",
       "      <td>84</td>\n",
       "      <td>6.0</td>\n",
       "      <td>4.6</td>\n",
       "      <td>0.79</td>\n",
       "    </tr>\n",
       "  </tbody>\n",
       "</table>\n",
       "</div>"
      ],
      "text/plain": [
       "   fruit_label fruit_name fruit_subtype  mass  width  height  color_score\n",
       "0            1      apple  granny_smith   192    8.4     7.3         0.55\n",
       "1            1      apple  granny_smith   180    8.0     6.8         0.59\n",
       "2            1      apple  granny_smith   176    7.4     7.2         0.60\n",
       "3            2   mandarin      mandarin    86    6.2     4.7         0.80\n",
       "4            2   mandarin      mandarin    84    6.0     4.6         0.79"
      ]
     },
     "execution_count": 52,
     "metadata": {},
     "output_type": "execute_result"
    }
   ],
   "source": [
    "data.head()"
   ]
  },
  {
   "cell_type": "code",
   "execution_count": 53,
   "metadata": {},
   "outputs": [
    {
     "data": {
      "text/plain": [
       "{1: 'apple', 2: 'mandarin', 3: 'orange', 4: 'lemon'}"
      ]
     },
     "execution_count": 53,
     "metadata": {},
     "output_type": "execute_result"
    }
   ],
   "source": [
    "target_fruits_name = dict(zip(data.fruit_label.unique(),data.fruit_name.unique()))\n",
    "\n",
    "target_fruits_name"
   ]
  },
  {
   "cell_type": "code",
   "execution_count": 54,
   "metadata": {},
   "outputs": [],
   "source": [
    "x = data[[\"mass\", \"width\", \"height\"]]\n",
    "y = data[\"fruit_label\"]"
   ]
  },
  {
   "cell_type": "code",
   "execution_count": 55,
   "metadata": {},
   "outputs": [],
   "source": [
    "x_train, x_test, y_train, y_test = train_test_split(x, y, random_state=0)"
   ]
  },
  {
   "cell_type": "markdown",
   "metadata": {},
   "source": [
    "Algorithms to be used – SVM, Kernel SVM, Naïve Bayes, Decision Trees, Random Forest"
   ]
  },
  {
   "cell_type": "code",
   "execution_count": 56,
   "metadata": {},
   "outputs": [
    {
     "name": "stdout",
     "output_type": "stream",
     "text": [
      "KNeighbours model at K = 3 is having a \n",
      "Accuracy: 0.5333333333333333\n"
     ]
    }
   ],
   "source": [
    "knn = KNeighborsClassifier(n_neighbors = 3)\n",
    "knn.fit(x_train,y_train)\n",
    "pred_y = knn.predict(x_test)\n",
    "\n",
    "accuracy = accuracy_score(y_test, pred_y)\n",
    "\n",
    "\n",
    "print ('KNeighbours model at K = 3 is having a ')\n",
    "print('Accuracy: {accuracy}'.format(accuracy=accuracy))"
   ]
  },
  {
   "cell_type": "code",
   "execution_count": 57,
   "metadata": {},
   "outputs": [
    {
     "name": "stdout",
     "output_type": "stream",
     "text": [
      "Accuracy of Decision Tree Classifier model at depth = 5 is  0.6666666666666666\n"
     ]
    }
   ],
   "source": [
    "dtc = DecisionTreeClassifier(max_depth=5)\n",
    "dtc.fit(x_train,y_train)\n",
    "pred_y = dtc.predict(x_test)\n",
    "print (\"Accuracy of Decision Tree Classifier model at depth = 5 is \", metrics.accuracy_score(y_test,pred_y))"
   ]
  },
  {
   "cell_type": "code",
   "execution_count": 58,
   "metadata": {},
   "outputs": [
    {
     "name": "stdout",
     "output_type": "stream",
     "text": [
      "Accuracy of Random Forest model at depth = 5 is  0.6666666666666666\n"
     ]
    }
   ],
   "source": [
    "rfc = RandomForestClassifier(max_depth=5, n_estimators=10, max_features=1)\n",
    "rfc.fit(x_train,y_train)\n",
    "pred_y = dtc.predict(x_test)\n",
    "print (\"Accuracy of Random Forest model at depth = 5 is \", metrics.accuracy_score(y_test,pred_y))"
   ]
  },
  {
   "cell_type": "code",
   "execution_count": 59,
   "metadata": {},
   "outputs": [
    {
     "name": "stdout",
     "output_type": "stream",
     "text": [
      "Accuracy of Naive Bayes model is  0.6\n"
     ]
    }
   ],
   "source": [
    "nb = GaussianNB()\n",
    "nb.fit(x_train,y_train)\n",
    "pred_y = nb.predict(x_test)\n",
    "print (\"Accuracy of Naive Bayes model is \", metrics.accuracy_score(y_test,pred_y))"
   ]
  },
  {
   "cell_type": "code",
   "execution_count": 60,
   "metadata": {},
   "outputs": [
    {
     "name": "stdout",
     "output_type": "stream",
     "text": [
      "Accuracy of Linear SVM model is  0.4\n"
     ]
    }
   ],
   "source": [
    "svm = SVC(kernel=\"linear\", C=0.025)\n",
    "svm.fit(x_train,y_train)\n",
    "pred_y = svm.predict(x_test)\n",
    "print (\"Accuracy of Linear SVM model is \", metrics.accuracy_score(y_test,pred_y))"
   ]
  },
  {
   "cell_type": "code",
   "execution_count": 61,
   "metadata": {},
   "outputs": [
    {
     "name": "stdout",
     "output_type": "stream",
     "text": [
      "Accuracy of Kernel SVM model is  0.4\n"
     ]
    }
   ],
   "source": [
    "svc = SVC(gamma=2, C=1)\n",
    "svc.fit(x_train,y_train)\n",
    "pred_y = svc.predict(x_test)\n",
    "print (\"Accuracy of Kernel SVM model is \", metrics.accuracy_score(y_test,pred_y))"
   ]
  },
  {
   "cell_type": "markdown",
   "metadata": {},
   "source": [
    "As a result, decision Tree and Random forest classifiers did good with an accuracy of 87%."
   ]
  },
  {
   "cell_type": "markdown",
   "metadata": {},
   "source": [
    "Problem 2 : Add noise to the dataset (From a Gaussian Process of mean 0, and standard deviation = 0.05 of Inter-Quartile-Range)"
   ]
  },
  {
   "cell_type": "code",
   "execution_count": 62,
   "metadata": {},
   "outputs": [],
   "source": [
    "\n",
    "#Loading data from text file\n",
    "noisy_data = pd.read_table(r'C:\\Users\\um018e\\Documents\\Data Analytics ML and Cloud Training\\week5\\fruit_data_with_colors.txt')"
   ]
  },
  {
   "cell_type": "code",
   "execution_count": 63,
   "metadata": {},
   "outputs": [
    {
     "data": {
      "text/plain": [
       "(59, 7)"
      ]
     },
     "execution_count": 63,
     "metadata": {},
     "output_type": "execute_result"
    }
   ],
   "source": [
    "noisy_data.shape"
   ]
  },
  {
   "cell_type": "code",
   "execution_count": 64,
   "metadata": {},
   "outputs": [],
   "source": [
    "x = noisy_data[[\"mass\", \"width\", \"height\"]]\n",
    "y = noisy_data[\"fruit_label\"]"
   ]
  },
  {
   "cell_type": "code",
   "execution_count": 65,
   "metadata": {},
   "outputs": [
    {
     "data": {
      "text/plain": [
       "(59, 3)"
      ]
     },
     "execution_count": 65,
     "metadata": {},
     "output_type": "execute_result"
    }
   ],
   "source": [
    "x.shape"
   ]
  },
  {
   "cell_type": "code",
   "execution_count": 66,
   "metadata": {},
   "outputs": [],
   "source": [
    "#adding noise to the data with mean 0 and std deviation 0.05\n",
    "mu, sigma = 0, 0.05 \n",
    "noise = np.random.normal(mu, sigma, x.shape)\n",
    "signal = x + noise"
   ]
  },
  {
   "cell_type": "code",
   "execution_count": 67,
   "metadata": {},
   "outputs": [
    {
     "name": "stdout",
     "output_type": "stream",
     "text": [
      "          mass     width     height\n",
      "0   191.995107  8.367954   7.289162\n",
      "1   179.918620  7.877875   6.919927\n",
      "2   176.080988  7.368287   7.225188\n",
      "3    85.933382  6.197922   4.701960\n",
      "4    83.980007  6.034781   4.643405\n",
      "5    79.981474  5.792078   4.331761\n",
      "6    80.064112  5.940367   4.339861\n",
      "7    76.084609  5.882319   3.979326\n",
      "8   178.073674  7.057433   7.759715\n",
      "9   172.066242  7.405772   7.014523\n",
      "10  166.054069  6.919248   7.271334\n",
      "11  171.950304  7.046695   7.623834\n",
      "12  153.978482  7.043361   7.170562\n",
      "13  164.051264  7.392404   7.756168\n",
      "14  151.982520  7.576270   7.299611\n",
      "15  156.016448  7.682419   7.083439\n",
      "16  155.877847  7.584130   7.413732\n",
      "17  167.987874  7.517950   7.543239\n",
      "18  162.036287  7.480060   7.158859\n",
      "19  162.039950  7.456776   7.198790\n",
      "20  160.013682  7.485513   7.438761\n",
      "21  156.076369  7.451116   7.440665\n",
      "22  139.932228  7.269300   7.080326\n",
      "23  169.909536  7.619821   7.927218\n",
      "24  342.056078  8.931180   9.416956\n",
      "25  355.948367  9.193359   9.110379\n",
      "26  361.988068  9.592292   9.198975\n",
      "27  204.012669  7.537422   9.213912\n",
      "28  139.989797  6.719029   7.095949\n",
      "29  160.033162  6.991500   7.443386\n",
      "30  158.018085  7.095513   7.463890\n",
      "31  210.004753  7.782660   8.034451\n",
      "32  164.014600  7.127621   6.909843\n",
      "33  190.104878  7.507153   8.119173\n",
      "34  142.028905  7.600331   7.893086\n",
      "35  149.934590  7.078294   7.875514\n",
      "36  160.083260  7.135934   7.662350\n",
      "37  153.925190  7.271278   7.320503\n",
      "38  157.902843  7.120623   7.809640\n",
      "39  144.016028  6.804353   7.310881\n",
      "40  154.032594  7.053633   7.535083\n",
      "41  179.911810  7.612613   8.259176\n",
      "42  153.991091  7.276339   7.234499\n",
      "43  193.975075  7.246725  10.325584\n",
      "44  200.048910  7.318113  10.513762\n",
      "45  186.061859  7.174359   9.244318\n",
      "46  215.997281  7.335761  10.126476\n",
      "47  196.020158  7.252960   9.716611\n",
      "48  173.921890  7.296028  10.164734\n",
      "49  132.040487  5.777358   8.746173\n",
      "50  130.011481  6.007233   8.167092\n",
      "51  116.023717  5.988327   7.538781\n",
      "52  118.025713  5.870765   8.059424\n",
      "53  120.087315  5.986751   8.390199\n",
      "54  116.054275  6.113988   8.525284\n",
      "55  115.963360  6.277876   7.723195\n",
      "56  116.007563  5.893907   8.065997\n",
      "57  152.028073  6.496510   8.521511\n",
      "58  117.994456  6.074661   8.045170\n"
     ]
    }
   ],
   "source": [
    "print(signal)"
   ]
  },
  {
   "cell_type": "code",
   "execution_count": 68,
   "metadata": {},
   "outputs": [],
   "source": [
    "#To verify the output with noise\n",
    "signal.to_csv(\"output_filename.csv\", index=False)"
   ]
  },
  {
   "cell_type": "code",
   "execution_count": 69,
   "metadata": {},
   "outputs": [
    {
     "data": {
      "text/plain": [
       "{1: 'apple', 2: 'mandarin', 3: 'orange', 4: 'lemon'}"
      ]
     },
     "execution_count": 69,
     "metadata": {},
     "output_type": "execute_result"
    }
   ],
   "source": [
    "target_fruits_name = dict(zip(noisy_data.fruit_label.unique(),noisy_data.fruit_name.unique()))\n",
    "\n",
    "target_fruits_name"
   ]
  },
  {
   "cell_type": "code",
   "execution_count": 70,
   "metadata": {},
   "outputs": [],
   "source": [
    "x_train, x_test, y_train, y_test = train_test_split(signal, y, random_state=0)"
   ]
  },
  {
   "cell_type": "code",
   "execution_count": 71,
   "metadata": {},
   "outputs": [
    {
     "name": "stdout",
     "output_type": "stream",
     "text": [
      "KNeighbours model at K = 3 is having a \n",
      "Accuracy: 0.5333333333333333\n"
     ]
    }
   ],
   "source": [
    "#I get the same result after noise too= 0.5333333\n",
    "knn = KNeighborsClassifier(n_neighbors = 3)\n",
    "knn.fit(x_train,y_train)\n",
    "pred_y = knn.predict(x_test)\n",
    "\n",
    "accuracy = accuracy_score(y_test, pred_y)\n",
    "\n",
    "\n",
    "print ('KNeighbours model at K = 3 is having a ')\n",
    "print('Accuracy: {accuracy}'.format(accuracy=accuracy))"
   ]
  },
  {
   "cell_type": "code",
   "execution_count": 72,
   "metadata": {},
   "outputs": [
    {
     "name": "stdout",
     "output_type": "stream",
     "text": [
      "Accuracy of Decision Tree Classifier model at depth = 5 is  0.6\n"
     ]
    }
   ],
   "source": [
    "dtc = DecisionTreeClassifier(max_depth=5)\n",
    "dtc.fit(x_train,y_train)\n",
    "pred_y = dtc.predict(x_test)\n",
    "print (\"Accuracy of Decision Tree Classifier model at depth = 5 is \", metrics.accuracy_score(y_test,pred_y))"
   ]
  },
  {
   "cell_type": "markdown",
   "metadata": {},
   "source": [
    "As a result, even after adding the noise, clasifiers shows same result as that without noise."
   ]
  }
 ],
 "metadata": {
  "interpreter": {
   "hash": "dc9da8f5013573f9661038960abcf15df55b4cdb89538898bf397ceb3042d0ec"
  },
  "kernelspec": {
   "display_name": "Python 3",
   "language": "python",
   "name": "python3"
  },
  "language_info": {
   "codemirror_mode": {
    "name": "ipython",
    "version": 3
   },
   "file_extension": ".py",
   "mimetype": "text/x-python",
   "name": "python",
   "nbconvert_exporter": "python",
   "pygments_lexer": "ipython3",
   "version": "3.7.6"
  }
 },
 "nbformat": 4,
 "nbformat_minor": 2
}
